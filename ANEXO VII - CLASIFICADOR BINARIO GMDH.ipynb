{
 "cells": [
  {
   "cell_type": "markdown",
   "metadata": {},
   "source": [
    "## Importación de los datos"
   ]
  },
  {
   "cell_type": "code",
   "execution_count": 1,
   "metadata": {},
   "outputs": [
    {
     "data": {
      "text/html": [
       "<div>\n",
       "<style scoped>\n",
       "    .dataframe tbody tr th:only-of-type {\n",
       "        vertical-align: middle;\n",
       "    }\n",
       "\n",
       "    .dataframe tbody tr th {\n",
       "        vertical-align: top;\n",
       "    }\n",
       "\n",
       "    .dataframe thead th {\n",
       "        text-align: right;\n",
       "    }\n",
       "</style>\n",
       "<table border=\"1\" class=\"dataframe\">\n",
       "  <thead>\n",
       "    <tr style=\"text-align: right;\">\n",
       "      <th></th>\n",
       "      <th>ws</th>\n",
       "      <th>air_temp</th>\n",
       "      <th>visibility</th>\n",
       "      <th>RH</th>\n",
       "      <th>new_cases</th>\n",
       "    </tr>\n",
       "  </thead>\n",
       "  <tbody>\n",
       "    <tr>\n",
       "      <th>0</th>\n",
       "      <td>0.562026</td>\n",
       "      <td>0.807566</td>\n",
       "      <td>0.361702</td>\n",
       "      <td>0.729768</td>\n",
       "      <td>0.094703</td>\n",
       "    </tr>\n",
       "    <tr>\n",
       "      <th>1</th>\n",
       "      <td>0.442043</td>\n",
       "      <td>0.191159</td>\n",
       "      <td>0.531915</td>\n",
       "      <td>0.681431</td>\n",
       "      <td>0.096308</td>\n",
       "    </tr>\n",
       "    <tr>\n",
       "      <th>2</th>\n",
       "      <td>0.437254</td>\n",
       "      <td>0.106840</td>\n",
       "      <td>0.210402</td>\n",
       "      <td>0.797240</td>\n",
       "      <td>0.891921</td>\n",
       "    </tr>\n",
       "    <tr>\n",
       "      <th>3</th>\n",
       "      <td>0.390664</td>\n",
       "      <td>0.814246</td>\n",
       "      <td>0.316306</td>\n",
       "      <td>0.685663</td>\n",
       "      <td>0.121990</td>\n",
       "    </tr>\n",
       "    <tr>\n",
       "      <th>4</th>\n",
       "      <td>0.390664</td>\n",
       "      <td>0.814246</td>\n",
       "      <td>0.316306</td>\n",
       "      <td>0.685663</td>\n",
       "      <td>0.020867</td>\n",
       "    </tr>\n",
       "  </tbody>\n",
       "</table>\n",
       "</div>"
      ],
      "text/plain": [
       "         ws  air_temp  visibility        RH  new_cases\n",
       "0  0.562026  0.807566    0.361702  0.729768   0.094703\n",
       "1  0.442043  0.191159    0.531915  0.681431   0.096308\n",
       "2  0.437254  0.106840    0.210402  0.797240   0.891921\n",
       "3  0.390664  0.814246    0.316306  0.685663   0.121990\n",
       "4  0.390664  0.814246    0.316306  0.685663   0.020867"
      ]
     },
     "execution_count": 1,
     "metadata": {},
     "output_type": "execute_result"
    }
   ],
   "source": [
    "## Se importa las librerías necesarias\n",
    "from pandas import read_csv\n",
    "from __future__ import print_function\n",
    "from sklearn.datasets import make_classification\n",
    "from sklearn.model_selection import train_test_split\n",
    "from sklearn.metrics import roc_auc_score, roc_curve, mean_squared_error, accuracy_score\n",
    "from gmdhpy.gmdh import Classifier\n",
    "from gmdhpy.plot_model import PlotModel\n",
    "import numpy as np\n",
    "import pandas as pd\n",
    "import matplotlib.pyplot as plt\n",
    "from sklearn.metrics import confusion_matrix\n",
    "import itertools\n",
    "from sklearn.metrics import classification_report\n",
    "\n",
    "from pandas import read_csv\n",
    "from sklearn.preprocessing import MinMaxScaler\n",
    "from sklearn import preprocessing\n",
    "\n",
    "## Se importa el dataset con 7 días de latencia\n",
    "Data = read_csv('data_7dias_latencia.csv', delimiter=',', encoding='cp1252')\n",
    "\n",
    "## Se elimina las columnas que no son utilizadas en el análisis\n",
    "del Data['state']\n",
    "del Data['station']\n",
    "del Data['date']\n",
    "\n",
    "## Se almacena en una lista el nombre de las columnas del dataset\n",
    "col_names=list(Data.columns)\n",
    "\n",
    "## Se normaliza los datos\n",
    "mm_scaler=preprocessing.MinMaxScaler()\n",
    "df_1=mm_scaler.fit_transform(Data)\n",
    "df=pd.DataFrame(df_1,columns=col_names)\n",
    "\n",
    "df.head()"
   ]
  },
  {
   "cell_type": "markdown",
   "metadata": {},
   "source": [
    "### Red neuronal con algoritmo GMDH"
   ]
  },
  {
   "cell_type": "code",
   "execution_count": 2,
   "metadata": {},
   "outputs": [
    {
     "name": "stdout",
     "output_type": "stream",
     "text": [
      "train layer0 in 0.06 sec\n",
      "train layer1 in 0.21 sec\n",
      "train layer2 in 0.21 sec\n",
      "train layer3 in 0.21 sec\n",
      "train layer4 in 0.21 sec\n",
      "train layer5 in 0.21 sec\n",
      "train layer6 in 0.29 sec\n",
      "train layer7 in 0.23 sec\n",
      "train layer8 in 0.27 sec\n",
      "train layer9 in 0.26 sec\n",
      "train layer10 in 0.24 sec\n",
      "train layer11 in 0.21 sec\n",
      "train layer12 in 0.21 sec\n"
     ]
    },
    {
     "data": {
      "image/png": "[encoded data removed]",
      "text/plain": [
       "<Figure size 432x288 with 1 Axes>"
      ]
     },
     "metadata": {
      "needs_background": "light"
     },
     "output_type": "display_data"
    },
    {
     "data": {
      "image/png": "[encoded data removed]",
      "text/plain": [
       "<Figure size 432x288 with 1 Axes>"
      ]
     },
     "metadata": {
      "needs_background": "light"
     },
     "output_type": "display_data"
    },
    {
     "name": "stdout",
     "output_type": "stream",
     "text": [
      "[1, 2, 3]\n",
      "[0]\n",
      "Características seleccionadas: index=inp_1 , index=inp_2 , index=inp_3 \n",
      "Características no seleccionadas: index=inp_0 \n"
     ]
    }
   ],
   "source": [
    "if __name__ == '__main__':\n",
    "\n",
    "    n_informative=5\n",
    "    n_clusters_per_class=2\n",
    "\n",
    "    ## Se divide el dataset en datos: variables independientes y variable dependiente (clase)\n",
    "    array = df.values\n",
    "\n",
    "    data_x = array[:,0:4]     # Variables independientes\n",
    "    data_y = array[:,4]       # Variable dependiente (clase)\n",
    "\n",
    "    ## Se crea la clase binaria \n",
    "    label_y = np.where(data_y <=0.0695,0, 1)     # 0: Número bajo de casos covid-19; 1: Número alto de casos covid-19\n",
    "    \n",
    "    ## Se crea los conjuntos de datos de entrenamiento y prueba\n",
    "    train_x, test_x, train_y, test_y = train_test_split(data_x, label_y,\n",
    "                                                        test_size=0.34,   # 66% datos para entrenar; 34% datos para validación\n",
    "                                                        random_state=1234)\n",
    "\n",
    "    ## Se crea los conjuntos de datos de validación\n",
    "    train_x, validate_x, train_y, validate_y = train_test_split(train_x, train_y,\n",
    "                                                                test_size=0.50,\n",
    "                                                                random_state=1234)\n",
    "\n",
    "    ## Creación del modelo.................................................\n",
    "    model = Classifier(ref_functions='linear_cov'\n",
    "                       ,criterion_type='validate'\n",
    "                       ,criterion_minimum_width=10\n",
    "                       ,max_layer_count=20\n",
    "                       ,manual_best_neurons_selection=True\n",
    "                       ,max_best_neurons_count=5)\n",
    "\n",
    "    # Entrenamiento del modelo.............................................\n",
    "    model.fit(train_x, train_y, validation_data=(validate_x, validate_y))\n",
    "    \n",
    "    # Predicción del modelo................................................\n",
    "    pred_y = model.predict_proba(test_x)\n",
    "  \n",
    "    ## Curva ROC \n",
    "    roc_auc = roc_auc_score(model.le.transform(test_y), pred_y)\n",
    "    fpr,tpr,_=roc_curve(model.le.transform(test_y), pred_y)\n",
    "     \n",
    "    ## Graficar la curva ROC\n",
    "    plt.plot(fpr,tpr,label=\"ROC AUC=\"+str(roc_auc))\n",
    "    plt.ylabel('True Positive Rate')\n",
    "    plt.xlabel('False Positive Rate')\n",
    "    plt.legend(loc=4)\n",
    "    plt.show()\n",
    "\n",
    "    ## \n",
    "    plt.title(\"{} Características informativas, {} cluster por clase\".format(n_informative, n_clusters_per_class), fontsize='medium')\n",
    "    plt.scatter(data_x[:, 0], data_x[:, 1], marker='o', c=data_y)\n",
    "    plt.show()\n",
    "\n",
    "    print(model.get_selected_features_indices())\n",
    "    print(model.get_unselected_features_indices())\n",
    "\n",
    "    print(\"Características seleccionadas: {}\".format(model.get_selected_features()))\n",
    "    print(\"Características no seleccionadas: {}\".format(model.get_unselected_features()))\n",
    "    \n",
    "\n",
    "    PlotModel(model, filename='Modelo_Binario_GMDH', plot_neuron_name=True, view=True).plot()"
   ]
  },
  {
   "cell_type": "markdown",
   "metadata": {},
   "source": [
    "##### Matriz de confusión"
   ]
  },
  {
   "cell_type": "code",
   "execution_count": 8,
   "metadata": {},
   "outputs": [
    {
     "data": {
      "text/html": [
       "<div>\n",
       "<style scoped>\n",
       "    .dataframe tbody tr th:only-of-type {\n",
       "        vertical-align: middle;\n",
       "    }\n",
       "\n",
       "    .dataframe tbody tr th {\n",
       "        vertical-align: top;\n",
       "    }\n",
       "\n",
       "    .dataframe thead th {\n",
       "        text-align: right;\n",
       "    }\n",
       "</style>\n",
       "<table border=\"1\" class=\"dataframe\">\n",
       "  <thead>\n",
       "    <tr style=\"text-align: right;\">\n",
       "      <th>Predicción</th>\n",
       "      <th>0.0</th>\n",
       "      <th>1.0</th>\n",
       "    </tr>\n",
       "    <tr>\n",
       "      <th>Real</th>\n",
       "      <th></th>\n",
       "      <th></th>\n",
       "    </tr>\n",
       "  </thead>\n",
       "  <tbody>\n",
       "    <tr>\n",
       "      <th>0</th>\n",
       "      <td>120</td>\n",
       "      <td>5</td>\n",
       "    </tr>\n",
       "    <tr>\n",
       "      <th>1</th>\n",
       "      <td>40</td>\n",
       "      <td>3</td>\n",
       "    </tr>\n",
       "  </tbody>\n",
       "</table>\n",
       "</div>"
      ],
      "text/plain": [
       "Predicción  0.0  1.0\n",
       "Real                \n",
       "0           120    5\n",
       "1            40    3"
      ]
     },
     "execution_count": 8,
     "metadata": {},
     "output_type": "execute_result"
    }
   ],
   "source": [
    "## Se clasifica las predicciones en 0 y 1\n",
    "pred_y_bin=np.round(pred_y)\n",
    "\n",
    "# Matriz de confusión de las predicciones de test\n",
    "confusion_matrix = pd.crosstab(\n",
    "    test_y.ravel(),\n",
    "    pred_y_bin,\n",
    "    rownames=['Real'],\n",
    "    colnames=['Predicción']\n",
    ")\n",
    "confusion_matrix"
   ]
  },
  {
   "cell_type": "markdown",
   "metadata": {},
   "source": [
    "###### Metricas de precisión"
   ]
  },
  {
   "cell_type": "code",
   "execution_count": 9,
   "metadata": {},
   "outputs": [
    {
     "name": "stdout",
     "output_type": "stream",
     "text": [
      "              precision    recall  f1-score   support\n",
      "\n",
      "           0       0.75      0.96      0.84       125\n",
      "           1       0.38      0.07      0.12        43\n",
      "\n",
      "    accuracy                           0.73       168\n",
      "   macro avg       0.56      0.51      0.48       168\n",
      "weighted avg       0.65      0.73      0.66       168\n",
      "\n"
     ]
    }
   ],
   "source": [
    "## Reporte del clasificador\n",
    "clas_report=classification_report(y_true=test_y,y_pred=pred_y_bin)\n",
    "print(clas_report)"
   ]
  },
  {
   "cell_type": "code",
   "execution_count": null,
   "metadata": {},
   "outputs": [],
   "source": []
  }
 ],
 "metadata": {
  "kernelspec": {
   "display_name": "Python 3",
   "language": "python",
   "name": "python3"
  },
  "language_info": {
   "codemirror_mode": {
    "name": "ipython",
    "version": 3
   },
   "file_extension": ".py",
   "mimetype": "text/x-python",
   "name": "python",
   "nbconvert_exporter": "python",
   "pygments_lexer": "ipython3",
   "version": "3.8.5"
  }
 },
 "nbformat": 4,
 "nbformat_minor": 4
}
